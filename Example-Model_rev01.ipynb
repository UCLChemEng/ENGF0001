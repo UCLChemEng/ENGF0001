{
  "cells": [
    {
      "cell_type": "markdown",
      "source": [
        "# ENGF0001 BE/CE/BME Bioreactor Simulator"
      ],
      "metadata": {}
    },
    {
      "cell_type": "markdown",
      "source": [
        "## User / Reactor Specifications"
      ],
      "metadata": {
        "nteract": {
          "transient": {
            "deleting": false
          }
        }
      }
    },
    {
      "cell_type": "code",
      "source": [
        "# ADD STUDENT CHOSEN PARAMETERS HERE\n",
        "\n",
        "# NOTE THAT THE MODEL IS CURRENTLY INCOMPLETE AND FOR DEMONSTRATION PURPOSES ONLY\n",
        "\n",
        "Simulation_Mode = 1    # 1 -> Batch; 0 -> Fed-batch\n",
        "\n",
        "Mixing_C = 1       # mixing coefficient (or C_Re)\n",
        "Heating_T = 21     # degree C\n",
        "Media_C = 1        # %max\n",
        "Probe_C1 = 1       # probe coefficient 1\n",
        "Probe_C2 =1        # probe coefficient 2\n",
        "Probe_C3 = 1       # probe coefficient 3\n",
        "\n",
        "Fedbatch_Rate = 0.05\n"
      ],
      "outputs": [],
      "execution_count": 103,
      "metadata": {
        "collapsed": true,
        "jupyter": {
          "source_hidden": false,
          "outputs_hidden": false
        },
        "nteract": {
          "transient": {
            "deleting": false
          }
        },
        "execution": {
          "iopub.status.busy": "2020-06-08T12:10:08.656Z",
          "iopub.execute_input": "2020-06-08T12:10:08.663Z",
          "iopub.status.idle": "2020-06-08T12:10:08.671Z",
          "shell.execute_reply": "2020-06-08T12:10:08.713Z"
        }
      }
    },
    {
      "cell_type": "markdown",
      "source": [
        "## Bioreactor Simulation (Blackbox Model; DO NOT CHANGE)\n",
        "### Staff Notes\n",
        "This model could be used internally by staff only for the final reactor simulation only.\n",
        "If a CFD model is available that could be used for ALL teams, that may be the preferable option.\n",
        "\n",
        "If CFD is not practical for modelling ALL student teams (using their specific and hopefully creative specifications), then it may be preferable to use a CFD model for example only (and use this model to generate student biorector/'scaled-up' bioreactor data).\n",
        "\n",
        "### The Model\n",
        "NOTE THIS NEEDS EDITED TO INCLUDE THE CELL DEATH COMPONENTS INCLUDED IN THE MODEL.\n",
        "#### Fed-batch Reactor\n",
        "$$\n",
        "\\begin{align*}\n",
        "\\frac{dX}{dt} & = - \\frac{F(t)}{V}X + r_g(X,N)  \\\\\n",
        "\\frac{dP}{dt} & = - \\frac{F(t)}{V}P + r_P(X,N) \\\\\n",
        "\\frac{dN}{dt} & = \\frac{F(t)}{V}(N_f - N) - \\frac{1}{Y_{G/N}}r_g(X,N) \\\\\n",
        "\\frac{dV}{dt} & = F(t)\n",
        "\\end{align*}\n",
        "$$\n",
        "#### Batch Reactor\n",
        "$$\n",
        "\\begin{align*}\n",
        "\\frac{dX}{dt} & = r_g(X,N)  \\\\\n",
        "\\frac{dP}{dt} & = r_P(X,N) \\\\\n",
        "\\frac{dN}{dt} & = - \\frac{1}{Y_{G/N}}r_g(X,N)\n",
        "\\end{align*}\n",
        "$$\n",
        "#### Variables\n",
        "$X$ is viable cell concentration, $P$ is product concentration, $N$ is nutrient concentration, all units of grams/liter.\n",
        "\n",
        "$N_f$ is feed substrate concentration, $F(t)$ is inlet feed rate in liters/hour.\n",
        "#### Parameters\n",
        "$r_g(X,N)$ is the production rate of fresh cell biomass in units of grams/liter/hr.\n",
        "\n",
        "$$r_g(X,N) = \\mu(N)X$$\n",
        "\n",
        "$\\mu(N)$ is the cell specific growth rate.\n",
        "\n",
        "$$\\mu(N) = \\mu_{max}\\frac{N}{K_N + N}$$\n",
        "\n",
        "$\\mu_{max}$ is the maximum specific growth rate, $K_N$ is the half saturation constant which is the value of $N$ for which $\\mu = \\frac{1}{2}\\mu_{max}$.\n",
        "\n",
        "The product generation rate is a by-product of cell growth and maintenance (Luedeking-Piret).\n",
        "\n",
        "$$r_P(X,N) = Y_{P/G}r_g(X,N) + Y_{P/M}$$\n",
        "\n",
        "$Y_{P/G}$ is the growth product yield coefficient, $Y_{P/M}$ is the maintenance product yield coefficient.\n",
        "\n",
        "$$Y_{P/G} = \\frac{\\mbox{product mass generated}}{\\mbox{new cell mass}}$$\n",
        "\n",
        "$$Y_{P/M} = \\frac{\\mbox{product mass generated}}{\\mbox{cell mass maintained}}$$\n",
        "\n",
        "Nutrient is consumed is proportion to the new cell mass and maintained cell mass.\n",
        "\n",
        "$Y_{G/N}$ is the yield coefficient for new cell mass, $Y_{M/N}$ is the yield coefficient for maintained cell mass.\n",
        "\n",
        "$$Y_{X/N} = \\frac{\\mbox{new cell mass}}{\\mbox{nutrient mass consumed}}$$\n"
      ],
      "metadata": {
        "nteract": {
          "transient": {
            "deleting": false
          }
        }
      }
    },
    {
      "cell_type": "code",
      "source": [
        "####\n",
        "# MODEL SPECIFICATION\n",
        "####\n",
        "\n",
        "# Initiate Workspace\n",
        "%matplotlib inline\n",
        "\n",
        "import numpy as np\n",
        "import matplotlib.pyplot as plt\n",
        "from scipy.integrate import odeint\n",
        "import math\n",
        "\n",
        "# Simulation Mode\n",
        "flagBatch = Simulation_Mode\n",
        "\n",
        "# Model Parameters\n",
        "mumax = 0.20      # 1/hour\n",
        "Ks = 1.00         # g/liter\n",
        "Yxs = 0.5         # g/g\n",
        "Ypx = 0.2         # g/g\n",
        "Sf = 10.0         # g/liter\n",
        "Cmg = 0.3         # S consumption maintenance/growth coefficient\n",
        "\n",
        "# Configure Model for Test Case\n",
        "if Simulation_Mode == 0:\n",
        "  Feed_Rate = Fedbatch_Rate         # Feed-rate, if Fed-batch bioreactor\n",
        "else:\n",
        "  Feed_Rate = 0                     # Batch bioreactor\n",
        "\n",
        "\n",
        "# Inlet Flowrate\n",
        "def F(t):\n",
        "    return Feed_Rate\n",
        "\n",
        "# Reaction Rates\n",
        "def mu(S):\n",
        "    return mumax*S/(Ks + S)\n",
        "def Rg(X,S):\n",
        "    return mu(S)*X\n",
        "def Rp(X,S):\n",
        "    return Ypx*Rg(X,S)\n",
        "def Rmc(X):\n",
        "    return X*Cmg*(1/Yxs)\n",
        "\n",
        "# Differential Equations\n",
        "def xdotFed(x,t):\n",
        "    X,P,S,V = x\n",
        "    \n",
        "    S1 = S\n",
        "    SReq = -1*(F(t)*(Sf-S1)/V -Rg(X,S1)/Yxs - Rmc(X))\n",
        "       \n",
        "    if S1 < SReq:\n",
        "      S_def = (SReq-S1)/SReq\n",
        "    else:\n",
        "      S_def = 0\n",
        "\n",
        "    if S1 <= 0:\n",
        "      S1 = 0\n",
        "      dS_dt = 0\n",
        "    else:\n",
        "      dS_dt = F(t)*(Sf-S1)/V -Rg(X,S1)/Yxs - Rmc(X)      \n",
        "    \n",
        "    dX_dt = -F(t)*X/V + Rg(X,S1) - X*S_def\n",
        "    dP_dt = -F(t)*P/V + Rp(X,S1) + X*0.1*Ypx*((1-math.exp(S1))/(-1*math.exp(S1)))\n",
        "    dV_dt = F(t)\n",
        "    \n",
        "    return [dX_dt,dP_dt,dS_dt,dV_dt]\n",
        "\n",
        "def xdotBatch(x,t):\n",
        "    X,P,S = x\n",
        "    \n",
        "    S1 = S\n",
        "    SReq = -1*(-Rg(X,S)/Yxs - Rmc(X))\n",
        "    \n",
        "    if S1 < SReq:\n",
        "      S_def = (SReq-S1)/SReq\n",
        "    else:\n",
        "      S_def = 0\n",
        "    \n",
        "    if S1 <= 0:\n",
        "      S1 = 0\n",
        "      dS_dt = 0\n",
        "    else:\n",
        "      dS_dt = -Rg(X,S1)/Yxs - Rmc(X)\n",
        "    \n",
        "    #dX_dt = Rg(X,S1) - X*S_def\n",
        "    dX_dt = Rg(X,S1) - X*S_def*0.5\n",
        "    dP_dt = Rp(X,S1) + X*0.1*Ypx*((1-math.exp(S1))/(-1*math.exp(S1)))\n",
        "    \n",
        "    return [dX_dt,dP_dt,dS_dt]"
      ],
      "outputs": [],
      "execution_count": 104,
      "metadata": {
        "execution": {
          "iopub.status.busy": "2020-06-08T12:10:08.679Z",
          "iopub.execute_input": "2020-06-08T12:10:08.688Z",
          "iopub.status.idle": "2020-06-08T12:10:08.694Z",
          "shell.execute_reply": "2020-06-08T12:10:08.717Z"
        }
      }
    },
    {
      "cell_type": "markdown",
      "source": [
        "## Simulation"
      ],
      "metadata": {}
    },
    {
      "cell_type": "code",
      "source": [
        "\n",
        "# ADD MEASUREMENT NOISE TO FINAL/Reported DATA  AND  ONLY REPORT 30 MIN MEASUREMENTS TO STUDENTS\n",
        "\n",
        "if flagBatch == 1:\n",
        "  IC = [0.05, 0.0, 10.0]\n",
        "  t = np.linspace(0,50,10000)\n",
        "  sol = odeint(xdotBatch,IC,t)\n",
        "  X,P,S = sol.transpose()\n",
        "  \n",
        "  plt.plot(t,X)\n",
        "  plt.plot(t,P)\n",
        "  plt.plot(t,S)\n",
        "  \n",
        "  plt.xlabel('Time [hr]')\n",
        "  plt.ylabel('Concentration [g/liter]')\n",
        "  plt.legend(['Viable Cell Conc.',\n",
        "            'Product Conc.',\n",
        "            'Substrate Conc.'])\n",
        "else:\n",
        "  IC = [0.05, 0.0, 10.0, 1.0]\n",
        "  t = np.linspace(0,50,10000)\n",
        "  sol = odeint(xdotFed,IC,t)\n",
        "  X,P,S,V = sol.transpose()\n",
        "  plt.plot(t,X)\n",
        "  plt.plot(t,P)\n",
        "  plt.plot(t,S)\n",
        "  plt.plot(t,V)\n",
        "\n",
        "  plt.xlabel('Time [hr]')\n",
        "  plt.ylabel('Concentration [g/liter]')\n",
        "  plt.legend(['Viable Cell Conc.',\n",
        "            'Product Conc.',\n",
        "            'Substrate Conc.',\n",
        "            'Volume [liter]'])"
      ],
      "outputs": [
        {
          "output_type": "display_data",
          "data": {
            "text/plain": [
              "<Figure size 432x288 with 1 Axes>"
            ],
            "image/png": "[encoded data removed]"
          },
          "metadata": {
            "needs_background": "light"
          }
        }
      ],
      "execution_count": 105,
      "metadata": {
        "execution": {
          "iopub.status.busy": "2020-06-08T12:10:08.702Z",
          "iopub.execute_input": "2020-06-08T12:10:08.708Z",
          "iopub.status.idle": "2020-06-08T12:10:08.912Z",
          "shell.execute_reply": "2020-06-08T12:10:08.945Z"
        }
      }
    },
    {
      "cell_type": "code",
      "source": [
        "# np.arange(0,10000,1000)\n",
        "# array([ 1,  2,  3,  4])\n",
        "ind = [0, 1000, 2000, 3000, 4000, 5000, 6000, 7000, 8000, 9999]\n",
        "#S[ind]\n",
        "P[ind]\n"
      ],
      "outputs": [
        {
          "output_type": "execute_result",
          "execution_count": 106,
          "data": {
            "text/plain": [
              "array([0.        , 0.0229357 , 0.07937217, 0.21525781, 0.49548868,\n",
              "       0.52743049, 0.52743049, 0.52743049, 0.52743049, 0.52743049])"
            ]
          },
          "metadata": {}
        }
      ],
      "execution_count": 106,
      "metadata": {
        "collapsed": true,
        "jupyter": {
          "source_hidden": false,
          "outputs_hidden": false
        },
        "nteract": {
          "transient": {
            "deleting": false
          }
        },
        "execution": {
          "iopub.status.busy": "2020-06-08T12:10:08.920Z",
          "iopub.execute_input": "2020-06-08T12:10:08.924Z",
          "iopub.status.idle": "2020-06-08T12:10:08.933Z",
          "shell.execute_reply": "2020-06-08T12:10:08.949Z"
        }
      }
    },
    {
      "cell_type": "markdown",
      "source": [
        "<!--NAVIGATION-->\n",
        "< [Exothermic Continuous Stirred Tank Reactor](http://nbviewer.jupyter.org/github/jckantor/CBE30338/blob/master/notebooks/02.06-Exothermic-CSTR.ipynb) | [Contents](toc.ipynb) | [Model Library](http://nbviewer.jupyter.org/github/jckantor/CBE30338/blob/master/notebooks/02.08-Model-Library.ipynb) ><p><a href=\"https://colab.research.google.com/github/jckantor/CBE30338/blob/master/notebooks/02.07-Fed-Batch-Bioreactor.ipynb\"><img align=\"left\" src=\"https://colab.research.google.com/assets/colab-badge.svg\" alt=\"Open in Colab\" title=\"Open in Google Colaboratory\"></a><p><a href=\"https://raw.githubusercontent.com/jckantor/CBE30338/master/notebooks/02.07-Fed-Batch-Bioreactor.ipynb\"><img align=\"left\" src=\"https://img.shields.io/badge/Github-Download-blue.svg\" alt=\"Download\" title=\"Download Notebook\"></a>"
      ],
      "metadata": {}
    },
    {
      "cell_type": "markdown",
      "source": [],
      "metadata": {
        "nteract": {
          "transient": {
            "deleting": false
          }
        }
      }
    }
  ],
  "metadata": {
    "kernelspec": {
      "display_name": "Python 3",
      "language": "python",
      "name": "python3"
    },
    "language_info": {
      "name": "python",
      "version": "3.6.10",
      "mimetype": "text/x-python",
      "codemirror_mode": {
        "name": "ipython",
        "version": 3
      },
      "pygments_lexer": "ipython3",
      "nbconvert_exporter": "python",
      "file_extension": ".py"
    },
    "nteract": {
      "version": "0.23.3"
    }
  },
  "nbformat": 4,
  "nbformat_minor": 2
}